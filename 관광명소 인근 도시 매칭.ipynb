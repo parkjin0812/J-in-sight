{
 "cells": [
  {
   "cell_type": "markdown",
   "metadata": {},
   "source": [
    "# < 위도, 경도 기준으로 인근 도시 매칭하기 >\n",
    "\n",
    "* 작업 목적 : 당사가 조사한 세계의 몇몇 관광명소들이 당사의 DB에 없는 도시에 있어서 매칭이 안된 곳이다. 그래서 DB에 있는 가장 가까운 도시를 우선 연결짓기로 하였고 이 작업을 수행한 것이다\n",
    "\n",
    "\n",
    "* 전달받은 데이터셋 : 당사 DB에 있는 도시 정보 , 도시 매칭이 되지 않은 관광명소의 좌표 정보"
   ]
  },
  {
   "cell_type": "code",
   "execution_count": 1,
   "metadata": {},
   "outputs": [],
   "source": [
    "import pandas as pd\n",
    "# 마이셀럽스 도시 데이터\n",
    "city_data = pd.read_excel(\"/Users/myhellebs/Downloads/mbl_city_data_update.xlsx\")\n",
    "# 매칭이 필요한 관광명소 데이터\n",
    "match_list = pd.read_excel(\"/Users/myhellebs/Downloads/도시 매칭 필요 리스트.xlsx\")"
   ]
  },
  {
   "cell_type": "code",
   "execution_count": 2,
   "metadata": {},
   "outputs": [
    {
     "data": {
      "text/html": [
       "<div>\n",
       "<style scoped>\n",
       "    .dataframe tbody tr th:only-of-type {\n",
       "        vertical-align: middle;\n",
       "    }\n",
       "\n",
       "    .dataframe tbody tr th {\n",
       "        vertical-align: top;\n",
       "    }\n",
       "\n",
       "    .dataframe thead th {\n",
       "        text-align: right;\n",
       "    }\n",
       "</style>\n",
       "<table border=\"1\" class=\"dataframe\">\n",
       "  <thead>\n",
       "    <tr style=\"text-align: right;\">\n",
       "      <th></th>\n",
       "      <th>명소명</th>\n",
       "      <th>명소 주소</th>\n",
       "      <th>명소 위도</th>\n",
       "      <th>명소 경도</th>\n",
       "      <th>명소 타입</th>\n",
       "    </tr>\n",
       "  </thead>\n",
       "  <tbody>\n",
       "    <tr>\n",
       "      <td>3</td>\n",
       "      <td>풀턴 체인 레이크스</td>\n",
       "      <td>Fulton Chain Lakes ,  미국 ,  뉴욕</td>\n",
       "      <td>43.7499</td>\n",
       "      <td>-74.8163</td>\n",
       "      <td>호수</td>\n",
       "    </tr>\n",
       "  </tbody>\n",
       "</table>\n",
       "</div>"
      ],
      "text/plain": [
       "          명소명                             명소 주소    명소 위도    명소 경도 명소 타입\n",
       "3  풀턴 체인 레이크스   Fulton Chain Lakes ,  미국 ,  뉴욕   43.7499 -74.8163    호수"
      ]
     },
     "execution_count": 2,
     "metadata": {},
     "output_type": "execute_result"
    }
   ],
   "source": [
    "# 데이터셋 확인\n",
    "match_list.iloc[3].to_frame().T"
   ]
  },
  {
   "cell_type": "markdown",
   "metadata": {},
   "source": [
    "## * 당사의 기준에 따른 거리 공식을 차용하였음(피타고라스 정리 이용)\n",
    "\n",
    "## (두 지점의 직선거리)^2 = (x축의 거리차)^2 + (y축의 거리차)^2 \n",
    "\n",
    "이 공식을 이용해 관광명소와 당사 DB 속 도시와의 직선거리가 가장 가까운 곳을 매칭"
   ]
  },
  {
   "cell_type": "code",
   "execution_count": 3,
   "metadata": {},
   "outputs": [],
   "source": [
    "import pandas as pd\n",
    "\n",
    "def search_city(lat, lng, city_data):\n",
    "    \n",
    "    # 위도값이 +-5이내\n",
    "    lat_list = city_data[(city_data[\"cd_latitude\"] > lat - 5) & (city_data[\"cd_latitude\"] < lat + 5)].copy()\n",
    "    # 위도값이 +-5이내이면서 경도값이 +-5이내\n",
    "    data = lat_list[(lat_list[\"cd_longitude\"] > lng - 5) & (lat_list[\"cd_longitude\"] < lng + 5)]\n",
    "    # 두 지점의 직선거리를 계산한 칼럼\n",
    "    data['cal'] = ((lat - data[\"cd_latitude\"]) ** 2 + (lng - data[\"cd_longitude\"]) ** 2) ** (1/2)\n",
    "    data = data.sort_values(by = 'cal')\n",
    "                    \n",
    "    try :\n",
    "        match_city = data.iloc[0]['cd_name']\n",
    "    \n",
    "    except :\n",
    "        match_city = None\n",
    "                    \n",
    "    return match_city"
   ]
  },
  {
   "cell_type": "code",
   "execution_count": 5,
   "metadata": {},
   "outputs": [],
   "source": [
    "pd.set_option('mode.chained_assignment',  None)\n",
    "match_list[\"매칭 도시\"] = match_list.apply(lambda x : search_city(x[\"명소 위도\"], x[\"명소 경도\"], city_data), axis = 1)\n"
   ]
  },
  {
   "cell_type": "code",
   "execution_count": 4,
   "metadata": {},
   "outputs": [
    {
     "data": {
      "text/html": [
       "<div>\n",
       "<style scoped>\n",
       "    .dataframe tbody tr th:only-of-type {\n",
       "        vertical-align: middle;\n",
       "    }\n",
       "\n",
       "    .dataframe tbody tr th {\n",
       "        vertical-align: top;\n",
       "    }\n",
       "\n",
       "    .dataframe thead th {\n",
       "        text-align: right;\n",
       "    }\n",
       "</style>\n",
       "<table border=\"1\" class=\"dataframe\">\n",
       "  <thead>\n",
       "    <tr style=\"text-align: right;\">\n",
       "      <th></th>\n",
       "      <th>명소명</th>\n",
       "      <th>명소 주소</th>\n",
       "      <th>명소 위도</th>\n",
       "      <th>명소 경도</th>\n",
       "      <th>명소 타입</th>\n",
       "    </tr>\n",
       "  </thead>\n",
       "  <tbody>\n",
       "    <tr>\n",
       "      <td>3</td>\n",
       "      <td>풀턴 체인 레이크스</td>\n",
       "      <td>Fulton Chain Lakes ,  미국 ,  뉴욕</td>\n",
       "      <td>43.7499</td>\n",
       "      <td>-74.8163</td>\n",
       "      <td>호수</td>\n",
       "    </tr>\n",
       "  </tbody>\n",
       "</table>\n",
       "</div>"
      ],
      "text/plain": [
       "          명소명                             명소 주소    명소 위도    명소 경도 명소 타입\n",
       "3  풀턴 체인 레이크스   Fulton Chain Lakes ,  미국 ,  뉴욕   43.7499 -74.8163    호수"
      ]
     },
     "execution_count": 4,
     "metadata": {},
     "output_type": "execute_result"
    }
   ],
   "source": [
    "match_list.iloc[3].to_frame().T"
   ]
  },
  {
   "cell_type": "code",
   "execution_count": 6,
   "metadata": {},
   "outputs": [
    {
     "data": {
      "text/html": [
       "<div>\n",
       "<style scoped>\n",
       "    .dataframe tbody tr th:only-of-type {\n",
       "        vertical-align: middle;\n",
       "    }\n",
       "\n",
       "    .dataframe tbody tr th {\n",
       "        vertical-align: top;\n",
       "    }\n",
       "\n",
       "    .dataframe thead th {\n",
       "        text-align: right;\n",
       "    }\n",
       "</style>\n",
       "<table border=\"1\" class=\"dataframe\">\n",
       "  <thead>\n",
       "    <tr style=\"text-align: right;\">\n",
       "      <th></th>\n",
       "      <th>명소명</th>\n",
       "      <th>명소 주소</th>\n",
       "      <th>명소 위도</th>\n",
       "      <th>명소 경도</th>\n",
       "      <th>명소 타입</th>\n",
       "      <th>매칭 도시</th>\n",
       "    </tr>\n",
       "  </thead>\n",
       "  <tbody>\n",
       "    <tr>\n",
       "      <td>3</td>\n",
       "      <td>풀턴 체인 레이크스</td>\n",
       "      <td>Fulton Chain Lakes ,  미국 ,  뉴욕</td>\n",
       "      <td>43.7499</td>\n",
       "      <td>-74.8163</td>\n",
       "      <td>호수</td>\n",
       "      <td>Old Forge</td>\n",
       "    </tr>\n",
       "  </tbody>\n",
       "</table>\n",
       "</div>"
      ],
      "text/plain": [
       "          명소명                             명소 주소    명소 위도    명소 경도 명소 타입  \\\n",
       "3  풀턴 체인 레이크스   Fulton Chain Lakes ,  미국 ,  뉴욕   43.7499 -74.8163    호수   \n",
       "\n",
       "       매칭 도시  \n",
       "3  Old Forge  "
      ]
     },
     "execution_count": 6,
     "metadata": {},
     "output_type": "execute_result"
    }
   ],
   "source": [
    "# 최종 데이터 셋 예시 (위와 비교)\n",
    "match_list.iloc[3].to_frame().T"
   ]
  },
  {
   "cell_type": "markdown",
   "metadata": {},
   "source": [
    "## - 이후에 해당 작업을 기반으로 여행 컨텐츠를 기획하는 마케팅팀 인턴들에게 인수인계 해주어 일의 효율을 높였음"
   ]
  },
  {
   "cell_type": "code",
   "execution_count": 7,
   "metadata": {},
   "outputs": [
    {
     "name": "stdout",
     "output_type": "stream",
     "text": [
      "위도와 경도를 ','표시로 구분지어 입력하세요 :48.8606111,2.337644\n"
     ]
    },
    {
     "data": {
      "text/html": [
       "<div>\n",
       "<style scoped>\n",
       "    .dataframe tbody tr th:only-of-type {\n",
       "        vertical-align: middle;\n",
       "    }\n",
       "\n",
       "    .dataframe tbody tr th {\n",
       "        vertical-align: top;\n",
       "    }\n",
       "\n",
       "    .dataframe thead th {\n",
       "        text-align: right;\n",
       "    }\n",
       "</style>\n",
       "<table border=\"1\" class=\"dataframe\">\n",
       "  <thead>\n",
       "    <tr style=\"text-align: right;\">\n",
       "      <th></th>\n",
       "      <th>cd_name</th>\n",
       "      <th>cd_name_ko</th>\n",
       "      <th>cd_country</th>\n",
       "      <th>cal</th>\n",
       "    </tr>\n",
       "  </thead>\n",
       "  <tbody>\n",
       "    <tr>\n",
       "      <td>5498</td>\n",
       "      <td>Paris</td>\n",
       "      <td>파리</td>\n",
       "      <td>fr</td>\n",
       "      <td>0.014378</td>\n",
       "    </tr>\n",
       "    <tr>\n",
       "      <td>5474</td>\n",
       "      <td>Saint-Ouen</td>\n",
       "      <td>생투앵</td>\n",
       "      <td>fr</td>\n",
       "      <td>0.051200</td>\n",
       "    </tr>\n",
       "    <tr>\n",
       "      <td>5550</td>\n",
       "      <td>Levallois-Perret</td>\n",
       "      <td>르발루아페레</td>\n",
       "      <td>fr</td>\n",
       "      <td>0.061025</td>\n",
       "    </tr>\n",
       "  </tbody>\n",
       "</table>\n",
       "</div>"
      ],
      "text/plain": [
       "               cd_name cd_name_ko cd_country       cal\n",
       "5498             Paris         파리         fr  0.014378\n",
       "5474        Saint-Ouen        생투앵         fr  0.051200\n",
       "5550  Levallois-Perret     르발루아페레         fr  0.061025"
      ]
     },
     "execution_count": 7,
     "metadata": {},
     "output_type": "execute_result"
    }
   ],
   "source": [
    "import pandas as pd\n",
    "city_data = pd.read_excel(\"/Users/myhellebs/Downloads/mbl_city_data_update.xlsx\")\n",
    "#city_data = city_data.drop('cd_idx',axis=1).drop('cd_city_id',axis=1)\n",
    "\n",
    "lat,lng = map(float, input('위도와 경도를 \\',\\'표시로 구분지어 입력하세요 :').split(','))\n",
    "\n",
    "data = city_data[(city_data[\"cd_latitude\"] > lat-10) & (city_data[\"cd_latitude\"] < lat+10)].copy().sort_values(by = \"cd_latitude\")\n",
    "final = data[(data[\"cd_longitude\"] > lng-10) & (data[\"cd_longitude\"] < lng+10)].sort_values(by = 'cd_latitude')\n",
    "final[\"cal\"] = ((lat-final[\"cd_latitude\"])**2 + (lng - final[\"cd_longitude\"])**2)**(1/2)\n",
    "final[[\"cd_name\", \"cd_name_ko\",\"cd_country\",\"cal\"]].sort_values(by = \"cal\").head(3)"
   ]
  },
  {
   "cell_type": "code",
   "execution_count": null,
   "metadata": {},
   "outputs": [],
   "source": [
    "# 파리의 루브르 박물관 좌표를 입력하였더니 가장 가까운 도시 파리를 매칭 해줌 "
   ]
  }
 ],
 "metadata": {
  "kernelspec": {
   "display_name": "Python 3",
   "language": "python",
   "name": "python3"
  },
  "language_info": {
   "codemirror_mode": {
    "name": "ipython",
    "version": 3
   },
   "file_extension": ".py",
   "mimetype": "text/x-python",
   "name": "python",
   "nbconvert_exporter": "python",
   "pygments_lexer": "ipython3",
   "version": "3.7.4"
  }
 },
 "nbformat": 4,
 "nbformat_minor": 2
}
